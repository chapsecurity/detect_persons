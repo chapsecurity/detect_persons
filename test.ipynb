{
 "cells": [
  {
   "cell_type": "code",
   "execution_count": 16,
   "metadata": {},
   "outputs": [
    {
     "name": "stdout",
     "output_type": "stream",
     "text": [
      "Cropped person image saved to cropped_persons/person_1.jpg\n",
      "Cropped person image saved to cropped_persons/person_2.jpg\n",
      "Cropped person image saved to cropped_persons/person_3.jpg\n",
      "Cropped person image saved to cropped_persons/person_4.jpg\n"
     ]
    }
   ],
   "source": [
    "import requests\n",
    "import base64\n",
    "import os\n",
    "\n",
    "# Replace with the path to your test image\n",
    "image_path = 'men-60744_640.jpg'\n",
    "\n",
    "# API endpoint\n",
    "url = 'http://localhost:5000/detect_persons'\n",
    "\n",
    "# Parameters\n",
    "padding = 0  # Adjust the padding value as needed\n",
    "\n",
    "# Open the image file in binary mode\n",
    "with open(image_path, 'rb') as image_file:\n",
    "    # Prepare the files and data for the request\n",
    "    files = {'image': image_file}\n",
    "    data = {'padding': padding}\n",
    "\n",
    "    try:\n",
    "        # Send the POST request\n",
    "        response = requests.post(url, files=files, data=data)\n",
    "\n",
    "        # Check if the request was successful\n",
    "        if response.status_code == 200:\n",
    "            # Parse the JSON response\n",
    "            result = response.json()\n",
    "            persons = result.get('persons', [])\n",
    "\n",
    "            if not persons:\n",
    "                print(\"No persons detected in the image.\")\n",
    "            else:\n",
    "                # Create an output directory to save cropped images\n",
    "                output_dir = 'cropped_persons'\n",
    "                os.makedirs(output_dir, exist_ok=True)\n",
    "\n",
    "                # Iterate over the base64-encoded images\n",
    "                for idx, encoded_image in enumerate(persons):\n",
    "                    # Decode the base64 string\n",
    "                    image_data = base64.b64decode(encoded_image)\n",
    "\n",
    "                    # Save the image to a file\n",
    "                    output_path = os.path.join(output_dir, f'person_{idx + 1}.jpg')\n",
    "                    with open(output_path, 'wb') as out_file:\n",
    "                        out_file.write(image_data)\n",
    "\n",
    "                    print(f\"Cropped person image saved to {output_path}\")\n",
    "        else:\n",
    "            # Print the error message from the API\n",
    "            error_message = response.json().get('error', 'Unknown error')\n",
    "            print(f\"API Error: {error_message}\")\n",
    "    except Exception as e:\n",
    "        print(f\"An error occurred: {e}\")\n"
   ]
  },
  {
   "cell_type": "code",
   "execution_count": null,
   "metadata": {},
   "outputs": [],
   "source": []
  }
 ],
 "metadata": {
  "kernelspec": {
   "display_name": "haris",
   "language": "python",
   "name": "python3"
  },
  "language_info": {
   "codemirror_mode": {
    "name": "ipython",
    "version": 3
   },
   "file_extension": ".py",
   "mimetype": "text/x-python",
   "name": "python",
   "nbconvert_exporter": "python",
   "pygments_lexer": "ipython3",
   "version": "3.11.10"
  }
 },
 "nbformat": 4,
 "nbformat_minor": 2
}
